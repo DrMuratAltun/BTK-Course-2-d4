{
 "cells": [
  {
   "cell_type": "code",
   "execution_count": null,
   "id": "197fced7",
   "metadata": {},
   "outputs": [],
   "source": [
    "def filetospeech(file_path,lang_input='tr',slow=False):\n",
    "    from gtts import gTTS\n",
    "    metin=''\n",
    "    try:\n",
    "        with open (file_path,'r',encoding='utf-8') as file:\n",
    "            for line in file:\n",
    "                metin+=line\n",
    "        print(metin)\n",
    "        kayit=gTTS(text=metin,lang='tr',slow=False)\n",
    "        dosya_adi=str(metin[:5])\n",
    "        dosya_adi+='.mp3'\n",
    "        kayit.save(dosya_adi)\n",
    "        print('Ses kaydedildi.:',dosya_adi)\n",
    "    except:\n",
    "        print('Ses kaydedilemedi.')"
   ]
  }
 ],
 "metadata": {
  "kernelspec": {
   "display_name": "Python 3 (ipykernel)",
   "language": "python",
   "name": "python3"
  },
  "language_info": {
   "codemirror_mode": {
    "name": "ipython",
    "version": 3
   },
   "file_extension": ".py",
   "mimetype": "text/x-python",
   "name": "python",
   "nbconvert_exporter": "python",
   "pygments_lexer": "ipython3",
   "version": "3.11.5"
  }
 },
 "nbformat": 4,
 "nbformat_minor": 5
}
