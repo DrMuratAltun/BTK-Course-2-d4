{
 "cells": [
  {
   "cell_type": "markdown",
   "id": "17fd6fc0",
   "metadata": {},
   "source": [
    "## Metin seslendirme"
   ]
  },
  {
   "cell_type": "code",
   "execution_count": 1,
   "id": "6bdecc3c",
   "metadata": {
    "collapsed": true
   },
   "outputs": [
    {
     "name": "stdout",
     "output_type": "stream",
     "text": [
      "Defaulting to user installation because normal site-packages is not writeableNote: you may need to restart the kernel to use updated packages.\n",
      "\n",
      "Requirement already satisfied: gtts in c:\\users\\emura\\appdata\\roaming\\python\\python311\\site-packages (2.5.1)\n",
      "Requirement already satisfied: requests<3,>=2.27 in c:\\users\\emura\\appdata\\roaming\\python\\python311\\site-packages (from gtts) (2.31.0)\n",
      "Requirement already satisfied: click<8.2,>=7.1 in c:\\programdata\\anaconda3\\lib\\site-packages (from gtts) (8.0.4)\n",
      "Requirement already satisfied: colorama in c:\\programdata\\anaconda3\\lib\\site-packages (from click<8.2,>=7.1->gtts) (0.4.6)\n",
      "Requirement already satisfied: charset-normalizer<4,>=2 in c:\\programdata\\anaconda3\\lib\\site-packages (from requests<3,>=2.27->gtts) (2.0.4)\n",
      "Requirement already satisfied: idna<4,>=2.5 in c:\\users\\emura\\appdata\\roaming\\python\\python311\\site-packages (from requests<3,>=2.27->gtts) (2.10)\n",
      "Requirement already satisfied: urllib3<3,>=1.21.1 in c:\\programdata\\anaconda3\\lib\\site-packages (from requests<3,>=2.27->gtts) (1.26.16)\n",
      "Requirement already satisfied: certifi>=2017.4.17 in c:\\programdata\\anaconda3\\lib\\site-packages (from requests<3,>=2.27->gtts) (2023.7.22)\n"
     ]
    }
   ],
   "source": [
    "pip install gtts"
   ]
  },
  {
   "cell_type": "code",
   "execution_count": 2,
   "id": "1c35067c",
   "metadata": {},
   "outputs": [],
   "source": [
    "from gtts import gTTS"
   ]
  },
  {
   "cell_type": "code",
   "execution_count": 3,
   "id": "423335b9",
   "metadata": {
    "collapsed": true
   },
   "outputs": [
    {
     "name": "stdout",
     "output_type": "stream",
     "text": [
      "Help on class gTTS in module gtts.tts:\n",
      "\n",
      "class gTTS(builtins.object)\n",
      " |  gTTS(text, tld='com', lang='en', slow=False, lang_check=True, pre_processor_funcs=[<function tone_marks at 0x000001A9B6DD74C0>, <function end_of_line at 0x000001A9B7127240>, <function abbreviations at 0x000001A9B7127CE0>, <function word_sub at 0x000001A9B7127D80>], tokenizer_func=<bound method Tokenizer.run of re.compile('(?<=\\\\?).|(?<=!).|(?<=？).|(?<=！).|(?<!\\\\.[a-z])\\\\. |(?<!\\\\.[a-z]), |(?<!\\\\d):|。|：|，|،|¿|\\\\)|\\\\\\n|¡|;|、|‥|\\\\[|\\\\(|—|…|\\\\]', re.IGNORECASE) from: [<function tone_marks at 0x000001A9B7127EC0>, <function period_comma at 0x000001A9B7127F60>, <function colon at 0x000001A9B7134040>, <function other_punctuation at 0x000001A9B71340E0>]>, timeout=None)\n",
      " |  \n",
      " |  gTTS -- Google Text-to-Speech.\n",
      " |  \n",
      " |  An interface to Google Translate's Text-to-Speech API.\n",
      " |  \n",
      " |  Args:\n",
      " |      text (string): The text to be read.\n",
      " |      tld (string): Top-level domain for the Google Translate host,\n",
      " |          i.e `https://translate.google.<tld>`. Different Google domains\n",
      " |          can produce different localized 'accents' for a given\n",
      " |          language. This is also useful when ``google.com`` might be blocked\n",
      " |          within a network but a local or different Google host\n",
      " |          (e.g. ``google.com.hk``) is not. Default is ``com``.\n",
      " |      lang (string, optional): The language (IETF language tag) to\n",
      " |          read the text in. Default is ``en``.\n",
      " |      slow (bool, optional): Reads text more slowly. Defaults to ``False``.\n",
      " |      lang_check (bool, optional): Strictly enforce an existing ``lang``,\n",
      " |          to catch a language error early. If set to ``True``,\n",
      " |          a ``ValueError`` is raised if ``lang`` doesn't exist.\n",
      " |          Setting ``lang_check`` to ``False`` skips Web requests\n",
      " |          (to validate language) and therefore speeds up instantiation.\n",
      " |          Default is ``True``.\n",
      " |      pre_processor_funcs (list): A list of zero or more functions that are\n",
      " |          called to transform (pre-process) text before tokenizing. Those\n",
      " |          functions must take a string and return a string. Defaults to::\n",
      " |  \n",
      " |              [\n",
      " |                  pre_processors.tone_marks,\n",
      " |                  pre_processors.end_of_line,\n",
      " |                  pre_processors.abbreviations,\n",
      " |                  pre_processors.word_sub\n",
      " |              ]\n",
      " |  \n",
      " |      tokenizer_func (callable): A function that takes in a string and\n",
      " |          returns a list of string (tokens). Defaults to::\n",
      " |  \n",
      " |              Tokenizer([\n",
      " |                  tokenizer_cases.tone_marks,\n",
      " |                  tokenizer_cases.period_comma,\n",
      " |                  tokenizer_cases.colon,\n",
      " |                  tokenizer_cases.other_punctuation\n",
      " |              ]).run\n",
      " |  \n",
      " |      timeout (float or tuple, optional): Seconds to wait for the server to\n",
      " |          send data before giving up, as a float, or a ``(connect timeout,\n",
      " |          read timeout)`` tuple. ``None`` will wait forever (default).\n",
      " |  \n",
      " |  See Also:\n",
      " |      :doc:`Pre-processing and tokenizing <tokenizer>`\n",
      " |  \n",
      " |  Raises:\n",
      " |      AssertionError: When ``text`` is ``None`` or empty; when there's nothing\n",
      " |          left to speak after pre-precessing, tokenizing and cleaning.\n",
      " |      ValueError: When ``lang_check`` is ``True`` and ``lang`` is not supported.\n",
      " |      RuntimeError: When ``lang_check`` is ``True`` but there's an error loading\n",
      " |          the languages dictionary.\n",
      " |  \n",
      " |  Methods defined here:\n",
      " |  \n",
      " |  __init__(self, text, tld='com', lang='en', slow=False, lang_check=True, pre_processor_funcs=[<function tone_marks at 0x000001A9B6DD74C0>, <function end_of_line at 0x000001A9B7127240>, <function abbreviations at 0x000001A9B7127CE0>, <function word_sub at 0x000001A9B7127D80>], tokenizer_func=<bound method Tokenizer.run of re.compile('(?<=\\\\?).|(?<=!).|(?<=？).|(?<=！).|(?<!\\\\.[a-z])\\\\. |(?<!\\\\.[a-z]), |(?<!\\\\d):|。|：|，|،|¿|\\\\)|\\\\\\n|¡|;|、|‥|\\\\[|\\\\(|—|…|\\\\]', re.IGNORECASE) from: [<function tone_marks at 0x000001A9B7127EC0>, <function period_comma at 0x000001A9B7127F60>, <function colon at 0x000001A9B7134040>, <function other_punctuation at 0x000001A9B71340E0>]>, timeout=None)\n",
      " |      Initialize self.  See help(type(self)) for accurate signature.\n",
      " |  \n",
      " |  get_bodies(self)\n",
      " |      Get TTS API request bodies(s) that would be sent to the TTS API.\n",
      " |      \n",
      " |      Returns:\n",
      " |          list: A list of TTS API request bodies to make.\n",
      " |  \n",
      " |  save(self, savefile)\n",
      " |      Do the TTS API request and write result to file.\n",
      " |      \n",
      " |      Args:\n",
      " |          savefile (string): The path and file name to save the ``mp3`` to.\n",
      " |      \n",
      " |      Raises:\n",
      " |          :class:`gTTSError`: When there's an error with the API request.\n",
      " |  \n",
      " |  stream(self)\n",
      " |      Do the TTS API request(s) and stream bytes\n",
      " |      \n",
      " |      Raises:\n",
      " |          :class:`gTTSError`: When there's an error with the API request.\n",
      " |  \n",
      " |  write_to_fp(self, fp)\n",
      " |      Do the TTS API request(s) and write bytes to a file-like object.\n",
      " |      \n",
      " |      Args:\n",
      " |          fp (file object): Any file-like object to write the ``mp3`` to.\n",
      " |      \n",
      " |      Raises:\n",
      " |          :class:`gTTSError`: When there's an error with the API request.\n",
      " |          TypeError: When ``fp`` is not a file-like object that takes bytes.\n",
      " |  \n",
      " |  ----------------------------------------------------------------------\n",
      " |  Data descriptors defined here:\n",
      " |  \n",
      " |  __dict__\n",
      " |      dictionary for instance variables (if defined)\n",
      " |  \n",
      " |  __weakref__\n",
      " |      list of weak references to the object (if defined)\n",
      " |  \n",
      " |  ----------------------------------------------------------------------\n",
      " |  Data and other attributes defined here:\n",
      " |  \n",
      " |  GOOGLE_TTS_HEADERS = {'Content-Type': 'application/x-www-form-urlencod...\n",
      " |  \n",
      " |  GOOGLE_TTS_MAX_CHARS = 100\n",
      " |  \n",
      " |  GOOGLE_TTS_RPC = 'jQ1olc'\n",
      "\n"
     ]
    }
   ],
   "source": [
    "help(gTTS)"
   ]
  },
  {
   "cell_type": "code",
   "execution_count": 4,
   "id": "634ee86c",
   "metadata": {},
   "outputs": [],
   "source": [
    "text='''\n",
    "Merhaba ben yapay zeka asistanınızım. size nasıl yardımcı olabilirim?\n",
    "'''"
   ]
  },
  {
   "cell_type": "code",
   "execution_count": 5,
   "id": "7afca5cf",
   "metadata": {},
   "outputs": [],
   "source": [
    "kayit=gTTS(text=text,lang='tr',slow=False)\n",
    "kayit.save('ses1.mp3') "
   ]
  },
  {
   "cell_type": "code",
   "execution_count": 6,
   "id": "f28f1b2e",
   "metadata": {},
   "outputs": [],
   "source": [
    "kayit=gTTS(text=text,lang='hi',slow=False)\n",
    "kayit.save('hi_accent.mp3') "
   ]
  },
  {
   "cell_type": "code",
   "execution_count": 21,
   "id": "25040f65",
   "metadata": {},
   "outputs": [
    {
     "name": "stdout",
     "output_type": "stream",
     "text": [
      "Merhaba, Be TE KA Akademi Python ile İleri Düzey Makine Öğrenmesi Kursuna hoş geldiniz.\n",
      "Ben yapay zeka asistanınızım.\n",
      "Yapay zekâ ya da kısaca Ye Ze doğal zekâyı taklit eden sistemlere denir.\n"
     ]
    }
   ],
   "source": [
    "# Metin dosyasını okuma ve seslendirme\n",
    "metin=''\n",
    "with open ('seslendirme_metni.txt','r',encoding='utf-8') as file:\n",
    "    for line in file:\n",
    "        metin+=line\n",
    "print(metin)"
   ]
  },
  {
   "cell_type": "code",
   "execution_count": 10,
   "id": "62cb99ac",
   "metadata": {},
   "outputs": [
    {
     "name": "stdout",
     "output_type": "stream",
     "text": [
      "Ses kaydedildi.: Merha.mp3\n"
     ]
    }
   ],
   "source": [
    "try:\n",
    "    kayit=gTTS(text=metin,lang='tr',slow=False)\n",
    "    dosya_adi=str(metin[:5])\n",
    "    dosya_adi+='.mp3'\n",
    "    kayit.save(dosya_adi)\n",
    "    print('Ses kaydedildi.:',dosya_adi)\n",
    "except:\n",
    "    print('Ses kaydedilemedi.')\n",
    "    "
   ]
  },
  {
   "cell_type": "code",
   "execution_count": 32,
   "id": "d8eb06bf",
   "metadata": {},
   "outputs": [],
   "source": [
    "def filetospeech(file_path,lang_input='tr',slow=False):\n",
    "    from gtts import gTTS\n",
    "    metin=''\n",
    "    try:\n",
    "        with open (file_path,'r',encoding='utf-8') as file:\n",
    "            for line in file:\n",
    "                metin+=line\n",
    "        print(metin)\n",
    "        kayit=gTTS(text=metin,lang='tr',slow=False)\n",
    "        dosya_adi=str(metin[:5])\n",
    "        dosya_adi+='.mp3'\n",
    "        kayit.save(dosya_adi)\n",
    "        print('Ses kaydedildi.:',dosya_adi)\n",
    "    except:\n",
    "        print('Ses kaydedilemedi.')"
   ]
  },
  {
   "cell_type": "code",
   "execution_count": 33,
   "id": "b2b1701e",
   "metadata": {},
   "outputs": [
    {
     "name": "stdout",
     "output_type": "stream",
     "text": [
      "Merhaba, Be TE KA Akademi Python ile İleri Düzey Makine Öğrenmesi Kursuna hoş geldiniz.\n",
      "Ben yapay zeka asistanınızım.\n",
      "Yapay zekâ ya da kısaca Ye Ze doğal zekâyı taklit eden sistemlere denir.\n",
      "Ses kaydedildi.: Merha.mp3\n"
     ]
    }
   ],
   "source": [
    "filetospeech('seslendirme_metni.txt')"
   ]
  },
  {
   "cell_type": "code",
   "execution_count": null,
   "id": "865c3f1e",
   "metadata": {},
   "outputs": [],
   "source": []
  }
 ],
 "metadata": {
  "kernelspec": {
   "display_name": "Python 3 (ipykernel)",
   "language": "python",
   "name": "python3"
  },
  "language_info": {
   "codemirror_mode": {
    "name": "ipython",
    "version": 3
   },
   "file_extension": ".py",
   "mimetype": "text/x-python",
   "name": "python",
   "nbconvert_exporter": "python",
   "pygments_lexer": "ipython3",
   "version": "3.11.5"
  }
 },
 "nbformat": 4,
 "nbformat_minor": 5
}
